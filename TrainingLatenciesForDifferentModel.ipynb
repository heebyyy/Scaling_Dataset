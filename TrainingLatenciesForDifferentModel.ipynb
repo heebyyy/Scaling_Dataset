{
 "cells": [
  {
   "cell_type": "code",
   "execution_count": 1,
   "metadata": {},
   "outputs": [
    {
     "name": "stderr",
     "output_type": "stream",
     "text": [
      "<frozen importlib._bootstrap>:219: RuntimeWarning: numpy.ufunc size changed, may indicate binary incompatibility. Expected 192 from C header, got 216 from PyObject\n",
      "C:\\Users\\TOHEEB\\anaconda3\\envs\\playground\\lib\\site-packages\\sklearn\\utils\\deprecation.py:143: FutureWarning: The sklearn.svm.classes module is  deprecated in version 0.22 and will be removed in version 0.24. The corresponding classes / functions should instead be imported from sklearn.svm. Anything that cannot be imported from sklearn.svm is now part of the private API.\n",
      "  warnings.warn(message, FutureWarning)\n"
     ]
    }
   ],
   "source": [
    "import gc\n",
    "import time\n",
    "\n",
    "import pandas as pd\n",
    "import numpy as np\n",
    "import matplotlib.pyplot as plt\n",
    "import seaborn as sns\n",
    "\n",
    "import sklearn\n",
    "from sklearn.datasets import make_regression\n",
    "from sklearn.model_selection import train_test_split\n",
    "from sklearn.preprocessing import StandardScaler\n",
    "\n",
    "from sklearn.linear_model import LinearRegression, Lasso\n",
    "from sklearn.linear_model.stochastic_gradient import SGDRegressor\n",
    "from sklearn.svm.classes import SVR\n",
    "from sklearn.tree import DecisionTreeRegressor\n",
    "from sklearn.ensemble.forest import RandomForestRegressor"
   ]
  },
  {
   "cell_type": "code",
   "execution_count": 3,
   "metadata": {},
   "outputs": [],
   "source": [
    "def generate_dataset(n_samples, n_features, noise=0.1):\n",
    "    \n",
    "    print(\"generating dataset...\")\n",
    "\n",
    "    x, y, coef = make_regression(n_samples=n_samples,\n",
    "                                 n_features=n_features, \n",
    "                                 noise=noise, coef=True)\n",
    "\n",
    "    x_train, x_test, y_train, y_test = train_test_split(\n",
    "        x, y, test_size=0.2, random_state=5)\n",
    "\n",
    "    x_scaler = StandardScaler()\n",
    "    x_train = x_scaler.fit_transform(x_train)\n",
    "    x_test = x_scaler.transform(x_test)\n",
    "\n",
    "    y_scaler = StandardScaler()\n",
    "    y_train = y_scaler.fit_transform(y_train[:, None])[:, 0]\n",
    "    y_test = y_scaler.transform(y_test[:, None])[:, 0]\n",
    "\n",
    "    gc.collect()\n",
    "    \n",
    "    print('dataset generation complete...')\n",
    "    \n",
    "    return x_train, y_train, x_test, y_test"
   ]
  },
  {
   "cell_type": "code",
   "execution_count": 4,
   "metadata": {},
   "outputs": [],
   "source": [
    " def build_and_train_model(x_train, y_train, model):\n",
    "        \n",
    "        training_latencies = []\n",
    "        \n",
    "        for i in range(20):\n",
    "            start = time.time()\n",
    "            \n",
    "            model.fit(x_train, y_train)\n",
    "            \n",
    "            training_latencies.append(time.time() - start)\n",
    "            \n",
    "        return training_latencies"
   ]
  },
  {
   "cell_type": "code",
   "execution_count": 5,
   "metadata": {},
   "outputs": [
    {
     "name": "stdout",
     "output_type": "stream",
     "text": [
      "generating dataset...\n",
      "dataset generation complete...\n"
     ]
    }
   ],
   "source": [
    "x_train, y_train, x_test, y_test = generate_dataset(10000, 100)"
   ]
  },
  {
   "cell_type": "code",
   "execution_count": 6,
   "metadata": {},
   "outputs": [
    {
     "data": {
      "text/plain": [
       "((8000, 100), (2000, 100))"
      ]
     },
     "execution_count": 6,
     "metadata": {},
     "output_type": "execute_result"
    }
   ],
   "source": [
    "x_train.shape, x_test.shape"
   ]
  },
  {
   "cell_type": "code",
   "execution_count": 7,
   "metadata": {},
   "outputs": [],
   "source": [
    "linear_model = LinearRegression()\n",
    "\n",
    "lasso_model = Lasso(alpha = 0.8)\n",
    "\n",
    "sgd_model = SGDRegressor(penalty = 'elasticnet', alpha = 0.01,\n",
    "                         l1_ratio = 0.25, tol = 1e-4)\n",
    "\n",
    "sv_model = SVR(kernel = 'rbf', gamma = 'scale')\n",
    "\n",
    "dt_model = DecisionTreeRegressor(max_depth = 10)\n",
    "\n",
    "rf_model = RandomForestRegressor(n_estimators = 20)"
   ]
  },
  {
   "cell_type": "code",
   "execution_count": 8,
   "metadata": {},
   "outputs": [],
   "source": [
    "training_latencies_dict = {}"
   ]
  },
  {
   "cell_type": "code",
   "execution_count": 10,
   "metadata": {},
   "outputs": [],
   "source": [
    "training_latencies_dict['linear'] = build_and_train_model(x_train, y_train, linear_model)"
   ]
  },
  {
   "cell_type": "code",
   "execution_count": 11,
   "metadata": {},
   "outputs": [],
   "source": [
    "training_latencies_dict['lasso'] = build_and_train_model(x_train, y_train, lasso_model)"
   ]
  },
  {
   "cell_type": "code",
   "execution_count": 12,
   "metadata": {},
   "outputs": [],
   "source": [
    "training_latencies_dict['sv'] = build_and_train_model(x_train, y_train, sv_model)"
   ]
  },
  {
   "cell_type": "code",
   "execution_count": 13,
   "metadata": {},
   "outputs": [],
   "source": [
    "training_latencies_dict['dt'] = build_and_train_model(x_train, y_train, dt_model)"
   ]
  },
  {
   "cell_type": "code",
   "execution_count": 14,
   "metadata": {},
   "outputs": [],
   "source": [
    "training_latencies_dict['rf'] = build_and_train_model(x_train, y_train, rf_model)"
   ]
  },
  {
   "cell_type": "code",
   "execution_count": 15,
   "metadata": {},
   "outputs": [],
   "source": [
    "training_latencies_df = pd.DataFrame()\n",
    "\n",
    "for key in training_latencies_dict:\n",
    "    training_latencies_df[key] = training_latencies_dict[key]"
   ]
  },
  {
   "cell_type": "code",
   "execution_count": 16,
   "metadata": {},
   "outputs": [
    {
     "data": {
      "text/html": [
       "<div>\n",
       "<style scoped>\n",
       "    .dataframe tbody tr th:only-of-type {\n",
       "        vertical-align: middle;\n",
       "    }\n",
       "\n",
       "    .dataframe tbody tr th {\n",
       "        vertical-align: top;\n",
       "    }\n",
       "\n",
       "    .dataframe thead th {\n",
       "        text-align: right;\n",
       "    }\n",
       "</style>\n",
       "<table border=\"1\" class=\"dataframe\">\n",
       "  <thead>\n",
       "    <tr style=\"text-align: right;\">\n",
       "      <th></th>\n",
       "      <th>linear</th>\n",
       "      <th>lasso</th>\n",
       "      <th>sv</th>\n",
       "      <th>dt</th>\n",
       "      <th>rf</th>\n",
       "    </tr>\n",
       "  </thead>\n",
       "  <tbody>\n",
       "    <tr>\n",
       "      <th>0</th>\n",
       "      <td>1.822556</td>\n",
       "      <td>0.314143</td>\n",
       "      <td>3.956414</td>\n",
       "      <td>0.858233</td>\n",
       "      <td>10.618294</td>\n",
       "    </tr>\n",
       "    <tr>\n",
       "      <th>1</th>\n",
       "      <td>0.034980</td>\n",
       "      <td>0.019992</td>\n",
       "      <td>3.704109</td>\n",
       "      <td>0.789569</td>\n",
       "      <td>10.801698</td>\n",
       "    </tr>\n",
       "    <tr>\n",
       "      <th>2</th>\n",
       "      <td>0.033980</td>\n",
       "      <td>0.011354</td>\n",
       "      <td>3.641412</td>\n",
       "      <td>0.658687</td>\n",
       "      <td>11.566206</td>\n",
       "    </tr>\n",
       "    <tr>\n",
       "      <th>3</th>\n",
       "      <td>0.036978</td>\n",
       "      <td>0.015625</td>\n",
       "      <td>4.522357</td>\n",
       "      <td>0.750123</td>\n",
       "      <td>12.191551</td>\n",
       "    </tr>\n",
       "    <tr>\n",
       "      <th>4</th>\n",
       "      <td>0.073960</td>\n",
       "      <td>0.015629</td>\n",
       "      <td>3.824861</td>\n",
       "      <td>0.773388</td>\n",
       "      <td>12.884162</td>\n",
       "    </tr>\n",
       "    <tr>\n",
       "      <th>5</th>\n",
       "      <td>0.047972</td>\n",
       "      <td>0.015641</td>\n",
       "      <td>4.183688</td>\n",
       "      <td>1.136367</td>\n",
       "      <td>15.669883</td>\n",
       "    </tr>\n",
       "    <tr>\n",
       "      <th>6</th>\n",
       "      <td>0.047973</td>\n",
       "      <td>0.015601</td>\n",
       "      <td>4.824902</td>\n",
       "      <td>0.759993</td>\n",
       "      <td>28.117859</td>\n",
       "    </tr>\n",
       "    <tr>\n",
       "      <th>7</th>\n",
       "      <td>0.043974</td>\n",
       "      <td>0.015624</td>\n",
       "      <td>4.869036</td>\n",
       "      <td>0.723588</td>\n",
       "      <td>11.405119</td>\n",
       "    </tr>\n",
       "    <tr>\n",
       "      <th>8</th>\n",
       "      <td>0.045975</td>\n",
       "      <td>0.015626</td>\n",
       "      <td>4.837239</td>\n",
       "      <td>0.860508</td>\n",
       "      <td>9.220965</td>\n",
       "    </tr>\n",
       "    <tr>\n",
       "      <th>9</th>\n",
       "      <td>0.043975</td>\n",
       "      <td>0.015625</td>\n",
       "      <td>4.910035</td>\n",
       "      <td>1.684077</td>\n",
       "      <td>8.897993</td>\n",
       "    </tr>\n",
       "    <tr>\n",
       "      <th>10</th>\n",
       "      <td>0.041976</td>\n",
       "      <td>0.015620</td>\n",
       "      <td>4.751163</td>\n",
       "      <td>1.441751</td>\n",
       "      <td>8.968591</td>\n",
       "    </tr>\n",
       "    <tr>\n",
       "      <th>11</th>\n",
       "      <td>0.040976</td>\n",
       "      <td>0.015627</td>\n",
       "      <td>5.163046</td>\n",
       "      <td>1.293966</td>\n",
       "      <td>9.789334</td>\n",
       "    </tr>\n",
       "    <tr>\n",
       "      <th>12</th>\n",
       "      <td>0.042975</td>\n",
       "      <td>0.015622</td>\n",
       "      <td>4.847126</td>\n",
       "      <td>1.033924</td>\n",
       "      <td>11.866059</td>\n",
       "    </tr>\n",
       "    <tr>\n",
       "      <th>13</th>\n",
       "      <td>0.045974</td>\n",
       "      <td>0.015625</td>\n",
       "      <td>5.196092</td>\n",
       "      <td>1.314249</td>\n",
       "      <td>12.911280</td>\n",
       "    </tr>\n",
       "    <tr>\n",
       "      <th>14</th>\n",
       "      <td>0.047971</td>\n",
       "      <td>0.015622</td>\n",
       "      <td>4.862212</td>\n",
       "      <td>1.487154</td>\n",
       "      <td>14.460245</td>\n",
       "    </tr>\n",
       "    <tr>\n",
       "      <th>15</th>\n",
       "      <td>0.041978</td>\n",
       "      <td>0.015626</td>\n",
       "      <td>4.090863</td>\n",
       "      <td>1.098372</td>\n",
       "      <td>12.423362</td>\n",
       "    </tr>\n",
       "    <tr>\n",
       "      <th>16</th>\n",
       "      <td>0.050982</td>\n",
       "      <td>0.018955</td>\n",
       "      <td>4.024176</td>\n",
       "      <td>0.919473</td>\n",
       "      <td>9.154193</td>\n",
       "    </tr>\n",
       "    <tr>\n",
       "      <th>17</th>\n",
       "      <td>0.046960</td>\n",
       "      <td>0.015625</td>\n",
       "      <td>4.306537</td>\n",
       "      <td>0.744576</td>\n",
       "      <td>9.091932</td>\n",
       "    </tr>\n",
       "    <tr>\n",
       "      <th>18</th>\n",
       "      <td>0.050971</td>\n",
       "      <td>0.022214</td>\n",
       "      <td>4.161910</td>\n",
       "      <td>0.713590</td>\n",
       "      <td>9.179010</td>\n",
       "    </tr>\n",
       "    <tr>\n",
       "      <th>19</th>\n",
       "      <td>0.052973</td>\n",
       "      <td>0.016993</td>\n",
       "      <td>4.350489</td>\n",
       "      <td>0.721608</td>\n",
       "      <td>8.905851</td>\n",
       "    </tr>\n",
       "  </tbody>\n",
       "</table>\n",
       "</div>"
      ],
      "text/plain": [
       "      linear     lasso        sv        dt         rf\n",
       "0   1.822556  0.314143  3.956414  0.858233  10.618294\n",
       "1   0.034980  0.019992  3.704109  0.789569  10.801698\n",
       "2   0.033980  0.011354  3.641412  0.658687  11.566206\n",
       "3   0.036978  0.015625  4.522357  0.750123  12.191551\n",
       "4   0.073960  0.015629  3.824861  0.773388  12.884162\n",
       "5   0.047972  0.015641  4.183688  1.136367  15.669883\n",
       "6   0.047973  0.015601  4.824902  0.759993  28.117859\n",
       "7   0.043974  0.015624  4.869036  0.723588  11.405119\n",
       "8   0.045975  0.015626  4.837239  0.860508   9.220965\n",
       "9   0.043975  0.015625  4.910035  1.684077   8.897993\n",
       "10  0.041976  0.015620  4.751163  1.441751   8.968591\n",
       "11  0.040976  0.015627  5.163046  1.293966   9.789334\n",
       "12  0.042975  0.015622  4.847126  1.033924  11.866059\n",
       "13  0.045974  0.015625  5.196092  1.314249  12.911280\n",
       "14  0.047971  0.015622  4.862212  1.487154  14.460245\n",
       "15  0.041978  0.015626  4.090863  1.098372  12.423362\n",
       "16  0.050982  0.018955  4.024176  0.919473   9.154193\n",
       "17  0.046960  0.015625  4.306537  0.744576   9.091932\n",
       "18  0.050971  0.022214  4.161910  0.713590   9.179010\n",
       "19  0.052973  0.016993  4.350489  0.721608   8.905851"
      ]
     },
     "execution_count": 16,
     "metadata": {},
     "output_type": "execute_result"
    }
   ],
   "source": [
    "training_latencies_df"
   ]
  },
  {
   "cell_type": "code",
   "execution_count": 17,
   "metadata": {},
   "outputs": [
    {
     "data": {
      "text/plain": [
       "<AxesSubplot:>"
      ]
     },
     "execution_count": 17,
     "metadata": {},
     "output_type": "execute_result"
    },
    {
     "data": {
      "image/png": "[encoded data removed]",
      "text/plain": [
       "<Figure size 720x576 with 1 Axes>"
      ]
     },
     "metadata": {
      "needs_background": "light"
     },
     "output_type": "display_data"
    }
   ],
   "source": [
    "training_latencies_df.boxplot(figsize=(10, 8))"
   ]
  },
  {
   "cell_type": "code",
   "execution_count": null,
   "metadata": {},
   "outputs": [],
   "source": []
  }
 ],
 "metadata": {
  "kernelspec": {
   "display_name": "Python 3",
   "language": "python",
   "name": "python3"
  },
  "language_info": {
   "codemirror_mode": {
    "name": "ipython",
    "version": 3
   },
   "file_extension": ".py",
   "mimetype": "text/x-python",
   "name": "python",
   "nbconvert_exporter": "python",
   "pygments_lexer": "ipython3",
   "version": "3.8.5"
  }
 },
 "nbformat": 4,
 "nbformat_minor": 4
}
